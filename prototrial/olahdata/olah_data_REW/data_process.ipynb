{
 "cells": [
  {
   "cell_type": "markdown",
   "metadata": {},
   "source": [
    "# REW Data Processing\n",
    "This notebook used for processing measurement data which acquired by Room Equalization Wizard (REW) on headphone's response test "
   ]
  },
  {
   "cell_type": "code",
   "execution_count": 1,
   "metadata": {},
   "outputs": [],
   "source": [
    "# import all necessary package\n",
    "import numpy as np \n",
    "import pandas as pd\n",
    "pd.options.mode.chained_assignment = None\n",
    "import matplotlib.pyplot as plt\n",
    "import matplotlib.ticker as mticker\n",
    "import os"
   ]
  },
  {
   "cell_type": "markdown",
   "metadata": {},
   "source": [
    "# Processing Single Data\n",
    "This section used for analyse single measurement data"
   ]
  },
  {
   "cell_type": "code",
   "execution_count": 2,
   "metadata": {},
   "outputs": [
    {
     "name": "stdout",
     "output_type": "stream",
     "text": [
      "The value of SPL on 1000.4 Hz is equals to 82.1 dB\n"
     ]
    }
   ],
   "source": [
    "# import data \n",
    "filename = './sample_data/L_1000/x1/L_x1_1000_11.txt'\n",
    "\n",
    "# erase the description line\n",
    "with open(filename, 'r') as f:\n",
    "    lines = f.readlines()\n",
    "with open(filename, 'w') as f:\n",
    "    for line in lines:\n",
    "        if not line.startswith(\"*\"):\n",
    "            f.write(line)\n",
    "\n",
    "# load data as dataframe and add the header\n",
    "data = pd.read_csv(filename, sep=\" \", names=['Freq', 'SPL'])\n",
    "\n",
    "for i in range(len(data)):\n",
    "    data['Freq'][i] = data['Freq'][i].replace(',', '')\n",
    "    data['Freq'][i] = np.round(float(data['Freq'][i]), decimals=1)\n",
    "\n",
    "    data['SPL'][i] = np.round(data['SPL'][i], decimals=1)\n",
    "\n",
    "# show the level on certain frequency\n",
    "freq = 1000.4\n",
    "SPL = data.loc[data['Freq'] == freq, 'SPL'].iloc[0]\n",
    "print('The value of SPL on ' + str(freq) + ' Hz is equals to ' + str(SPL) + ' dB')"
   ]
  },
  {
   "cell_type": "code",
   "execution_count": 3,
   "metadata": {},
   "outputs": [
    {
     "data": {
      "image/png": "[encoded data removed]",
      "text/plain": [
       "<Figure size 432x288 with 1 Axes>"
      ]
     },
     "metadata": {
      "needs_background": "light"
     },
     "output_type": "display_data"
    }
   ],
   "source": [
    "# visualize the data\n",
    "fig, ax = plt.subplots(tight_layout=True)\n",
    "ax.set_xlabel('Frequency (Hz)')\n",
    "ax.set_ylabel('SPL (dB)')\n",
    "ax.set_title('SPL values on certain frequency during measurement')\n",
    "\n",
    "ln1 = ax.plot(data['Freq'], data['SPL'])\n",
    "ax.grid(which='both')\n",
    "ax.set_xscale('log')\n"
   ]
  },
  {
   "cell_type": "markdown",
   "metadata": {},
   "source": [
    "# Processing Batch of Data\n",
    "This section used for creating plot of resulted level on each scale on certain frequency"
   ]
  },
  {
   "cell_type": "code",
   "execution_count": 4,
   "metadata": {},
   "outputs": [],
   "source": [
    "# define get SPL function\n",
    "def get_spl(filename, frequency):\n",
    "    # erase the description line on the loaded data\n",
    "    with open(filename, 'r') as f:\n",
    "        lines = f.readlines()\n",
    "    with open(filename, 'w') as f:\n",
    "        for line in lines:\n",
    "            if not line.startswith(\"*\"):\n",
    "                f.write(line)\n",
    "\n",
    "    # load data as dataframe and add the header\n",
    "    data = pd.read_csv(filename, sep=\" \", names=['Freq', 'SPL'])\n",
    "\n",
    "    for i in range(len(data)):\n",
    "        data['Freq'][i] = data['Freq'][i].replace(',', '')\n",
    "        data['Freq'][i] = np.round(float(data['Freq'][i]), decimals=1)\n",
    "\n",
    "        data['SPL'][i] = np.round(data['SPL'][i], decimals=1)\n",
    "\n",
    "    # show the level on certain frequency\n",
    "    return data.loc[data['Freq'] == frequency, 'SPL'].iloc[0]\n",
    "    \n"
   ]
  },
  {
   "cell_type": "code",
   "execution_count": 9,
   "metadata": {},
   "outputs": [
    {
     "data": {
      "text/html": [
       "<div>\n",
       "<style scoped>\n",
       "    .dataframe tbody tr th:only-of-type {\n",
       "        vertical-align: middle;\n",
       "    }\n",
       "\n",
       "    .dataframe tbody tr th {\n",
       "        vertical-align: top;\n",
       "    }\n",
       "\n",
       "    .dataframe thead th {\n",
       "        text-align: right;\n",
       "    }\n",
       "</style>\n",
       "<table border=\"1\" class=\"dataframe\">\n",
       "  <thead>\n",
       "    <tr style=\"text-align: right;\">\n",
       "      <th></th>\n",
       "      <th>1</th>\n",
       "      <th>2</th>\n",
       "      <th>3</th>\n",
       "      <th>4</th>\n",
       "      <th>5</th>\n",
       "      <th>6</th>\n",
       "      <th>7</th>\n",
       "      <th>8</th>\n",
       "      <th>9</th>\n",
       "      <th>10</th>\n",
       "      <th>11</th>\n",
       "    </tr>\n",
       "  </thead>\n",
       "  <tbody>\n",
       "    <tr>\n",
       "      <th>x1</th>\n",
       "      <td>39.0</td>\n",
       "      <td>42.3</td>\n",
       "      <td>46.2</td>\n",
       "      <td>42.3</td>\n",
       "      <td>51.1</td>\n",
       "      <td>52.6</td>\n",
       "      <td>58.4</td>\n",
       "      <td>64.2</td>\n",
       "      <td>70.6</td>\n",
       "      <td>76.7</td>\n",
       "      <td>82.1</td>\n",
       "    </tr>\n",
       "    <tr>\n",
       "      <th>x2</th>\n",
       "      <td>39.0</td>\n",
       "      <td>42.3</td>\n",
       "      <td>46.2</td>\n",
       "      <td>42.3</td>\n",
       "      <td>51.1</td>\n",
       "      <td>52.6</td>\n",
       "      <td>58.4</td>\n",
       "      <td>64.2</td>\n",
       "      <td>70.6</td>\n",
       "      <td>76.7</td>\n",
       "      <td>82.1</td>\n",
       "    </tr>\n",
       "    <tr>\n",
       "      <th>x3</th>\n",
       "      <td>39.0</td>\n",
       "      <td>42.3</td>\n",
       "      <td>46.2</td>\n",
       "      <td>42.3</td>\n",
       "      <td>51.1</td>\n",
       "      <td>52.6</td>\n",
       "      <td>58.4</td>\n",
       "      <td>64.2</td>\n",
       "      <td>70.6</td>\n",
       "      <td>76.7</td>\n",
       "      <td>82.1</td>\n",
       "    </tr>\n",
       "  </tbody>\n",
       "</table>\n",
       "</div>"
      ],
      "text/plain": [
       "       1     2     3     4     5     6     7     8     9    10    11\n",
       "x1  39.0  42.3  46.2  42.3  51.1  52.6  58.4  64.2  70.6  76.7  82.1\n",
       "x2  39.0  42.3  46.2  42.3  51.1  52.6  58.4  64.2  70.6  76.7  82.1\n",
       "x3  39.0  42.3  46.2  42.3  51.1  52.6  58.4  64.2  70.6  76.7  82.1"
      ]
     },
     "execution_count": 9,
     "metadata": {},
     "output_type": "execute_result"
    }
   ],
   "source": [
    "# define data directory \n",
    "filedir = './sample_data/L_1000/'\n",
    "\n",
    "# define frequency\n",
    "freq = 1000.4\n",
    "\n",
    "# create empty dataframe\n",
    "index = ['x{}'.format(i) for i in np.arange(1,4,1)]\n",
    "column = [str(i) for i in np.arange(1,12,1)]\n",
    "df = pd.DataFrame(index=index, columns=column)\n",
    "\n",
    "for r, d, f in os.walk(filedir):\n",
    "    for file in f:\n",
    "        filename = os.path.join(r,file) \n",
    "        iteration = filename.split('/')[3]\n",
    "        \n",
    "        scale = filename.split('/')[4]\n",
    "        scale = scale.replace('.txt', '').split('_')[-1]\n",
    "\n",
    "        spl = get_spl(filename, freq)\n",
    "\n",
    "        df[str(scale)][iteration] = spl\n",
    "        # print(str(iteration) + ' - ' + str(scale) + ':' + str(spl))\n",
    "\n",
    "# visualize dataframe\n",
    "df.head()\n"
   ]
  }
 ],
 "metadata": {
  "kernelspec": {
   "display_name": "Python 3.10.5",
   "language": "python",
   "name": "python3"
  },
  "language_info": {
   "codemirror_mode": {
    "name": "ipython",
    "version": 3
   },
   "file_extension": ".py",
   "mimetype": "text/x-python",
   "name": "python",
   "nbconvert_exporter": "python",
   "pygments_lexer": "ipython3",
   "version": "3.10.5"
  },
  "orig_nbformat": 4,
  "vscode": {
   "interpreter": {
    "hash": "e7370f93d1d0cde622a1f8e1c04877d8463912d04d973331ad4851f04de6915a"
   }
  }
 },
 "nbformat": 4,
 "nbformat_minor": 2
}
